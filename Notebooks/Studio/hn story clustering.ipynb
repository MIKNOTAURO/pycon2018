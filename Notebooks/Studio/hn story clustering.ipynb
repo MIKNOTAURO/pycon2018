{
    "nbformat_minor": 1, 
    "cells": [
        {
            "execution_count": 1, 
            "cell_type": "code", 
            "metadata": {}, 
            "outputs": [], 
            "source": "# The code was removed by DSX for sharing."
        }, 
        {
            "execution_count": 2, 
            "cell_type": "code", 
            "metadata": {
                "scrolled": true
            }, 
            "outputs": [
                {
                    "execution_count": 2, 
                    "metadata": {}, 
                    "data": {
                        "text/plain": "(6229, 11)"
                    }, 
                    "output_type": "execute_result"
                }
            ], 
            "source": "temp_df = pd.read_csv(project.get_file('hn_stories.csv'))\ntemp_df.shape"
        }, 
        {
            "execution_count": 3, 
            "cell_type": "code", 
            "metadata": {}, 
            "outputs": [
                {
                    "execution_count": 3, 
                    "metadata": {}, 
                    "data": {
                        "text/plain": "(6229, 11)"
                    }, 
                    "output_type": "execute_result"
                }
            ], 
            "source": "temp_df.shape"
        }, 
        {
            "execution_count": 4, 
            "cell_type": "code", 
            "metadata": {
                "scrolled": false
            }, 
            "outputs": [
                {
                    "output_type": "stream", 
                    "name": "stderr", 
                    "text": "/opt/conda/envs/DSX-Python35/lib/python3.5/site-packages/ipykernel/__main__.py:2: SettingWithCopyWarning: \nA value is trying to be set on a copy of a slice from a DataFrame.\nTry using .loc[row_indexer,col_indexer] = value instead\n\nSee the caveats in the documentation: http://pandas.pydata.org/pandas-docs/stable/indexing.html#indexing-view-versus-copy\n  from ipykernel import kernelapp as app\n"
                }
            ], 
            "source": "clean_df = temp_df.dropna(axis=0, how='all', subset=['text'])\nclean_df['text_length'] = clean_df.text.str.len()\nclean_df = clean_df[clean_df.text_length > 200]"
        }, 
        {
            "execution_count": 5, 
            "cell_type": "code", 
            "metadata": {}, 
            "outputs": [], 
            "source": "# https://www.machinelearningplus.com/nlp/topic-modeling-python-sklearn-examples/\n# Author: Olivier Grisel <olivier.grisel@ensta.org>\n#         Lars Buitinck\n#         Chyi-Kwei Yau <chyikwei.yau@gmail.com>\n# License: BSD 3 clause\n\nfrom __future__ import print_function\nfrom time import time\n\nfrom sklearn.feature_extraction.text import TfidfVectorizer, CountVectorizer\nfrom sklearn.decomposition import NMF, LatentDirichletAllocation\n\n# Sklearn\nfrom sklearn.decomposition import LatentDirichletAllocation, TruncatedSVD\nfrom sklearn.feature_extraction.text import CountVectorizer, TfidfVectorizer\nfrom sklearn.model_selection import GridSearchCV\nfrom pprint import pprint\nimport re\nimport numpy as np\n\nfrom sklearn.decomposition import TruncatedSVD\nfrom sklearn.feature_extraction.text import TfidfTransformer\nfrom sklearn.pipeline import make_pipeline\nfrom sklearn.preprocessing import Normalizer\nfrom sklearn import metrics\n\nfrom sklearn.cluster import AgglomerativeClustering\nfrom sklearn.cluster import KMeans, MiniBatchKMeans\n\n%matplotlib inline\n# # Plotting tools\n# import matplotlib.pyplot as plt\n# %matplotlib inline"
        }, 
        {
            "execution_count": 6, 
            "cell_type": "code", 
            "metadata": {}, 
            "outputs": [], 
            "source": "# Convert to list\ndata = clean_df.text.tolist()\ndata = [re.sub(r'[^\\w\\s]','',s) for s in data] #punctuation\ndata = [re.sub('\\s+', ' ', s) for s in data] #new lines\ndata = [re.sub(\"\\'\", \"\", s) for s in data] # single quotes\nclean_df['text'] = data"
        }, 
        {
            "execution_count": 7, 
            "cell_type": "code", 
            "metadata": {}, 
            "outputs": [], 
            "source": "n_samples = 2000\nn_features = 100000\nn_components = 8\nn_top_words = 20"
        }, 
        {
            "execution_count": 8, 
            "cell_type": "code", 
            "metadata": {}, 
            "outputs": [], 
            "source": "from sklearn.pipeline import Pipeline\n\n\ntfidf_vectorizer = TfidfVectorizer(max_df=0.95, min_df=2,\n                                   max_features=n_features,\n                                   stop_words='english')\nsvd = TruncatedSVD(n_components)\nnormalizer = Normalizer(copy=False)\n\nkm = KMeans(n_clusters=n_components, init='k-means++', max_iter=100, n_init=1,\n                verbose=False)\n\nward = AgglomerativeClustering(n_clusters=8, linkage='ward')\n\nk_pipe = make_pipeline(tfidf_vectorizer, svd, normalizer,km)\nagg_pipe = make_pipeline(tfidf_vectorizer, svd, normalizer,ward)"
        }, 
        {
            "execution_count": 13, 
            "cell_type": "code", 
            "metadata": {}, 
            "outputs": [], 
            "source": "k_model = k_pipe.fit(clean_df.text)\nk_clusts  = k_model.predict(clean_df.text)\nclean_df['clust_label'] = clusts"
        }, 
        {
            "execution_count": 14, 
            "cell_type": "code", 
            "metadata": {}, 
            "outputs": [], 
            "source": "agg_model = agg_pipe.fit(clean_df.text)\nagg_clusts  = agg_model.fit_predict(clean_df.text)\nclean_df['clust_label_agg'] = clusts"
        }, 
        {
            "execution_count": 15, 
            "cell_type": "code", 
            "metadata": {
                "scrolled": true
            }, 
            "outputs": [
                {
                    "execution_count": 15, 
                    "metadata": {}, 
                    "data": {
                        "text/plain": "0    1611\n2    1515\n7     650\n6     510\n4     439\n3     402\n5     256\n1     135\nName: clust_label, dtype: int64"
                    }, 
                    "output_type": "execute_result"
                }
            ], 
            "source": "clean_df['clust_label'].value_counts()"
        }, 
        {
            "execution_count": 16, 
            "cell_type": "code", 
            "metadata": {
                "scrolled": true
            }, 
            "outputs": [
                {
                    "execution_count": 16, 
                    "metadata": {}, 
                    "data": {
                        "text/plain": "array([[  6.05923300e-01,  -1.51241354e-01,  -1.08419520e-01,\n          3.66263559e-01,   7.39461672e-02,  -9.89564001e-02,\n          2.24678291e-01,   6.78694635e-02],\n       [  7.88204320e-01,  -7.53496667e-02,   4.00300442e-01,\n         -1.08051264e-01,  -2.11425777e-01,   3.60239305e-02,\n          1.59974950e-01,   3.95247965e-03],\n       [  8.73804657e-01,  -2.07436633e-01,   4.49768840e-02,\n         -2.42215694e-01,   1.34958329e-01,  -1.16450071e-02,\n         -5.67063004e-02,  -3.77243384e-03],\n       [  4.69157407e-01,   8.42180353e-01,  -4.09749925e-02,\n          7.78416802e-03,  -2.18505399e-02,  -6.24424923e-03,\n          4.32149430e-03,   1.04013383e-04],\n       [  7.72737154e-01,  -2.74848146e-01,  -3.41394671e-01,\n         -2.28432271e-01,   4.27334258e-03,  -5.52751426e-02,\n          2.08575164e-01,   4.80623414e-03],\n       [  7.03263885e-01,  -2.39408394e-01,  -4.12915783e-01,\n          1.18534616e-01,  -1.01135701e-01,   1.42191534e-01,\n         -3.12706510e-01,   1.19454040e-02],\n       [  8.08463194e-01,  -7.82315413e-02,   1.83956745e-01,\n          2.95843740e-01,  -1.75878895e-01,  -5.38296441e-02,\n         -2.00640378e-01,   1.78893485e-03],\n       [  7.89568731e-01,   9.79522482e-02,   4.87501561e-01,\n          4.71772588e-02,  -8.32915633e-02,   5.86106101e-02,\n         -8.12578449e-02,   3.63198205e-03]])"
                    }, 
                    "output_type": "execute_result"
                }
            ], 
            "source": "k_model.named_steps['kmeans'].cluster_centers_"
        }, 
        {
            "execution_count": 18, 
            "cell_type": "code", 
            "metadata": {
                "scrolled": true
            }, 
            "outputs": [
                {
                    "execution_count": 18, 
                    "metadata": {}, 
                    "data": {
                        "text/plain": "(array([0, 1, 2, 3, 4, 5, 6, 7], dtype=int32),\n array([ 584,  544,  881,  274, 1196,  746,  632,  661]))"
                    }, 
                    "output_type": "execute_result"
                }
            ], 
            "source": "clusts  = k_model.predict(clean_df.text)\nnp.unique(clusts,return_counts=True)"
        }, 
        {
            "source": "##  Score all the clustered stories and save to COS bucket", 
            "cell_type": "markdown", 
            "metadata": {}
        }, 
        {
            "execution_count": 19, 
            "cell_type": "code", 
            "metadata": {
                "scrolled": true
            }, 
            "outputs": [
                {
                    "execution_count": 19, 
                    "metadata": {}, 
                    "data": {
                        "text/html": "<div>\n<style scoped>\n    .dataframe tbody tr th:only-of-type {\n        vertical-align: middle;\n    }\n\n    .dataframe tbody tr th {\n        vertical-align: top;\n    }\n\n    .dataframe thead th {\n        text-align: right;\n    }\n</style>\n<table border=\"1\" class=\"dataframe\">\n  <thead>\n    <tr style=\"text-align: right;\">\n      <th></th>\n      <th>by</th>\n      <th>descendants</th>\n      <th>id</th>\n      <th>kids</th>\n      <th>pain_perdu</th>\n      <th>score</th>\n      <th>text</th>\n      <th>time</th>\n      <th>title</th>\n      <th>type</th>\n      <th>url</th>\n      <th>text_length</th>\n      <th>clust_label</th>\n      <th>clust_label_agg</th>\n    </tr>\n  </thead>\n  <tbody>\n    <tr>\n      <th>0</th>\n      <td>pain_perdu</td>\n      <td>77.0</td>\n      <td>16936533</td>\n      <td>[16937090, 16936857, 16936689, 16936691, 16937...</td>\n      <td>NaN</td>\n      <td>141</td>\n      <td>Copyright 2000 2016 Fox Television Stations L...</td>\n      <td>1524781744</td>\n      <td>DNA linked to Golden State Killer arrest came ...</td>\n      <td>story</td>\n      <td>http://www.ktvu.com/news/dna-linked-to-golden-...</td>\n      <td>6154</td>\n      <td>0</td>\n      <td>0</td>\n    </tr>\n    <tr>\n      <th>1</th>\n      <td>rezashirazian</td>\n      <td>57.0</td>\n      <td>16935270</td>\n      <td>[16936257, 16935515, 16936338, 16937273, 16935...</td>\n      <td>NaN</td>\n      <td>234</td>\n      <td>var postLoadFunctions var foresee_enabled 1 v...</td>\n      <td>1524773832</td>\n      <td>Square to buy Weebly for $365M</td>\n      <td>story</td>\n      <td>https://www.cnbc.com/2018/04/26/square-to-buy-...</td>\n      <td>28245</td>\n      <td>1</td>\n      <td>1</td>\n    </tr>\n    <tr>\n      <th>2</th>\n      <td>arctux</td>\n      <td>109.0</td>\n      <td>16933736</td>\n      <td>[16935012, 16935247, 16935094, 16934190, 16937...</td>\n      <td>NaN</td>\n      <td>402</td>\n      <td>by Matthew Hodgson Apr 26 2018 General In the...</td>\n      <td>1524762980</td>\n      <td>Matrix and Riot Confirmed as the Basis for Fra...</td>\n      <td>story</td>\n      <td>https://matrix.org/blog/2018/04/26/matrix-and-...</td>\n      <td>4477</td>\n      <td>2</td>\n      <td>2</td>\n    </tr>\n    <tr>\n      <th>3</th>\n      <td>ingve</td>\n      <td>102.0</td>\n      <td>16933265</td>\n      <td>[16933598, 16933544, 16934620, 16933861, 16934...</td>\n      <td>NaN</td>\n      <td>462</td>\n      <td>Uncovering the best of the web while pointing ...</td>\n      <td>1524759583</td>\n      <td>Magnasanti: Large and Terrifying SimCity (2010)</td>\n      <td>story</td>\n      <td>https://rumorsontheinternets.org/2010/10/14/ma...</td>\n      <td>9866</td>\n      <td>0</td>\n      <td>0</td>\n    </tr>\n    <tr>\n      <th>4</th>\n      <td>velmu</td>\n      <td>20.0</td>\n      <td>16934656</td>\n      <td>[16935702, 16936638, 16937333, 16935952, 16937...</td>\n      <td>NaN</td>\n      <td>92</td>\n      <td>Cyber security has evolved into a key issue f...</td>\n      <td>1524769885</td>\n      <td>SEC Penalizes Yahoo $35M for Massive, Undisclo...</td>\n      <td>story</td>\n      <td>https://www.jdsupra.com/legalnews/sec-penalize...</td>\n      <td>10789</td>\n      <td>6</td>\n      <td>6</td>\n    </tr>\n  </tbody>\n</table>\n</div>", 
                        "text/plain": "              by  descendants        id  \\\n0     pain_perdu         77.0  16936533   \n1  rezashirazian         57.0  16935270   \n2         arctux        109.0  16933736   \n3          ingve        102.0  16933265   \n4          velmu         20.0  16934656   \n\n                                                kids  pain_perdu  score  \\\n0  [16937090, 16936857, 16936689, 16936691, 16937...         NaN    141   \n1  [16936257, 16935515, 16936338, 16937273, 16935...         NaN    234   \n2  [16935012, 16935247, 16935094, 16934190, 16937...         NaN    402   \n3  [16933598, 16933544, 16934620, 16933861, 16934...         NaN    462   \n4  [16935702, 16936638, 16937333, 16935952, 16937...         NaN     92   \n\n                                                text        time  \\\n0   Copyright 2000 2016 Fox Television Stations L...  1524781744   \n1   var postLoadFunctions var foresee_enabled 1 v...  1524773832   \n2   by Matthew Hodgson Apr 26 2018 General In the...  1524762980   \n3  Uncovering the best of the web while pointing ...  1524759583   \n4   Cyber security has evolved into a key issue f...  1524769885   \n\n                                               title   type  \\\n0  DNA linked to Golden State Killer arrest came ...  story   \n1                     Square to buy Weebly for $365M  story   \n2  Matrix and Riot Confirmed as the Basis for Fra...  story   \n3    Magnasanti: Large and Terrifying SimCity (2010)  story   \n4  SEC Penalizes Yahoo $35M for Massive, Undisclo...  story   \n\n                                                 url  text_length  \\\n0  http://www.ktvu.com/news/dna-linked-to-golden-...         6154   \n1  https://www.cnbc.com/2018/04/26/square-to-buy-...        28245   \n2  https://matrix.org/blog/2018/04/26/matrix-and-...         4477   \n3  https://rumorsontheinternets.org/2010/10/14/ma...         9866   \n4  https://www.jdsupra.com/legalnews/sec-penalize...        10789   \n\n   clust_label  clust_label_agg  \n0            0                0  \n1            1                1  \n2            2                2  \n3            0                0  \n4            6                6  "
                    }, 
                    "output_type": "execute_result"
                }
            ], 
            "source": "clean_df.head()"
        }, 
        {
            "execution_count": 122, 
            "cell_type": "code", 
            "metadata": {}, 
            "outputs": [], 
            "source": "clean_df.to_json('clustered_stories.json',orient='records')\ncos.upload_file(Filename='clustered_stories.json' ,Bucket=credentials['BUCKET'],Key='clustered_stories.json' )"
        }, 
        {
            "source": "## Deploy model with Watson Machine Learning", 
            "cell_type": "markdown", 
            "metadata": {}
        }, 
        {
            "execution_count": 20, 
            "cell_type": "code", 
            "metadata": {}, 
            "outputs": [], 
            "source": "# The code was removed by DSX for sharing."
        }, 
        {
            "execution_count": 21, 
            "cell_type": "code", 
            "metadata": {}, 
            "outputs": [
                {
                    "output_type": "stream", 
                    "name": "stderr", 
                    "text": "2018-05-10 14:20:37,040 - watson_machine_learning_client.metanames - WARNING - 'AUTHOR_EMAIL' meta prop is deprecated. It will be ignored.\n2018-05-10 14:21:26,838 - watson_machine_learning_client.wml_client_error - WARNING - Loading model with artifact_uid: 'a012bfe2-ec80-4097-9c75-ece24c1ab42f' failed.\nReason: (404)\nReason: Not Found\nHTTP response headers: HTTPHeaderDict({'X-Global-Transaction-Id': 'ffbbzc8fe4dblfb8225p2j4f73rae2398fr2', 'Transfer-Encoding': 'chunked', 'Server': 'nginx/1.13.6', 'X-Xss-Protection': '1', 'Date': 'Thu, 10 May 2018 14:21:26 GMT', 'X-Wml-User-Client': 'PythonClient', 'X-Frame-Options': 'DENY', 'Cache-Control': 'private, no-cache, no-store, must-revalidate', 'Pragma': 'no-cache', 'X-Backside-Transport': 'FAIL FAIL', 'X-Content-Type-Options': 'nosniff', 'Connection': 'Keep-Alive', 'Content-Type': 'application/json'})\nHTTP response body: {\"trace\":\"ffbbzc8fe4dblfb8225p2j4f73rae2398fr2\",\"errors\":[{\"code\":\"not_found\",\"message\":\"Requested object could not be found.\"}]}\n\n"
                }
            ], 
            "source": "from watson_machine_learning_client import WatsonMachineLearningAPIClient\nfrom watson_machine_learning_client.metanames import MetaNames\nimport json"
        }, 
        {
            "execution_count": 22, 
            "cell_type": "code", 
            "metadata": {}, 
            "outputs": [], 
            "source": "client = WatsonMachineLearningAPIClient(wml_credentials)\n\n# instance_details = client.service_instance.get_details()\n# print(json.dumps(instance_details, indent=2))"
        }, 
        {
            "execution_count": 23, 
            "cell_type": "code", 
            "metadata": {}, 
            "outputs": [], 
            "source": "model_props = {client.repository.ModelMetaNames.AUTHOR_NAME: \"Greg F.\", \n               client.repository.ModelMetaNames.AUTHOR_EMAIL: \"gfilla@us.ibm.com\",\n               client.repository.ModelMetaNames.NAME: \"HN Clustering\",\n               MetaNames.LABEL_FIELD: \"binned\"}"
        }, 
        {
            "execution_count": 24, 
            "cell_type": "code", 
            "metadata": {}, 
            "outputs": [], 
            "source": "l =  clean_df.text.values.tolist()"
        }, 
        {
            "execution_count": 26, 
            "cell_type": "code", 
            "metadata": {
                "scrolled": true
            }, 
            "outputs": [], 
            "source": "published_model = client.repository.store_model(model=k_model, meta_props=model_props, \\\n                                                training_data=l, training_target=clean_df.score)"
        }, 
        {
            "execution_count": 27, 
            "cell_type": "code", 
            "metadata": {}, 
            "outputs": [], 
            "source": "published_model_uid = client.repository.get_model_uid(published_model)\nmodel_details = client.repository.get_details(published_model_uid)"
        }, 
        {
            "execution_count": 28, 
            "cell_type": "code", 
            "metadata": {
                "scrolled": true
            }, 
            "outputs": [
                {
                    "output_type": "stream", 
                    "name": "stdout", 
                    "text": "{\n  \"metadata\": {\n    \"guid\": \"48a7da24-8bfc-4b93-82a7-b2e7de8d6d6b\",\n    \"url\": \"https://ibm-watson-ml.mybluemix.net/v3/wml_instances/bedc993c-0caa-4c43-bd7e-cc3986e45fea/published_models/48a7da24-8bfc-4b93-82a7-b2e7de8d6d6b\",\n    \"modified_at\": \"2018-05-10T14:20:37.349Z\",\n    \"created_at\": \"2018-05-10T14:20:37.299Z\"\n  },\n  \"entity\": {\n    \"input_data_schema\": {\n      \"features\": {\n        \"fields\": [\n          {\n            \"type\": \"str\",\n            \"name\": \"f1\"\n          }\n        ],\n        \"type\": \"list\"\n      },\n      \"labels\": {\n        \"fields\": [\n          {\n            \"type\": \"int64\",\n            \"name\": \"score\"\n          }\n        ],\n        \"type\": \"Series\"\n      }\n    },\n    \"deployments\": {\n      \"url\": \"https://ibm-watson-ml.mybluemix.net/v3/wml_instances/bedc993c-0caa-4c43-bd7e-cc3986e45fea/published_models/48a7da24-8bfc-4b93-82a7-b2e7de8d6d6b/deployments\",\n      \"count\": 0\n    },\n    \"latest_version\": {\n      \"url\": \"https://ibm-watson-ml.mybluemix.net/v3/ml_assets/models/48a7da24-8bfc-4b93-82a7-b2e7de8d6d6b/versions/a012bfe2-ec80-4097-9c75-ece24c1ab42f\",\n      \"guid\": \"a012bfe2-ec80-4097-9c75-ece24c1ab42f\",\n      \"created_at\": \"2018-05-10T14:20:37.349Z\"\n    },\n    \"name\": \"HN Clustering\",\n    \"evaluation_metrics_url\": \"https://ibm-watson-ml.mybluemix.net/v3/wml_instances/bedc993c-0caa-4c43-bd7e-cc3986e45fea/published_models/48a7da24-8bfc-4b93-82a7-b2e7de8d6d6b/evaluation_metrics\",\n    \"label_col\": \"score\",\n    \"learning_iterations_url\": \"https://ibm-watson-ml.mybluemix.net/v3/wml_instances/bedc993c-0caa-4c43-bd7e-cc3986e45fea/published_models/48a7da24-8bfc-4b93-82a7-b2e7de8d6d6b/learning_iterations\",\n    \"author\": {\n      \"name\": \"Greg F.\"\n    },\n    \"model_type\": \"scikit-learn-0.19\",\n    \"learning_configuration_url\": \"https://ibm-watson-ml.mybluemix.net/v3/wml_instances/bedc993c-0caa-4c43-bd7e-cc3986e45fea/published_models/48a7da24-8bfc-4b93-82a7-b2e7de8d6d6b/learning_configuration\",\n    \"runtime_environment\": \"python-3.5\",\n    \"feedback_url\": \"https://ibm-watson-ml.mybluemix.net/v3/wml_instances/bedc993c-0caa-4c43-bd7e-cc3986e45fea/published_models/48a7da24-8bfc-4b93-82a7-b2e7de8d6d6b/feedback\",\n    \"training_data_schema\": {\n      \"features\": {\n        \"fields\": [\n          {\n            \"type\": \"str\",\n            \"name\": \"f1\"\n          }\n        ],\n        \"type\": \"list\"\n      },\n      \"labels\": {\n        \"fields\": [\n          {\n            \"type\": \"int64\",\n            \"name\": \"score\"\n          }\n        ],\n        \"type\": \"Series\"\n      }\n    }\n  }\n}\n"
                }
            ], 
            "source": "print(json.dumps(model_details, indent=2))"
        }, 
        {
            "execution_count": 36, 
            "cell_type": "code", 
            "metadata": {}, 
            "outputs": [], 
            "source": "from watson_machine_learning_client import WatsonMachineLearningAPIClient\nfrom watson_machine_learning_client.metanames import MetaNames\nimport json\n\nclient = WatsonMachineLearningAPIClient(wml_credentials)\nloaded_model = client.repository.load(model_details['metadata']['guid'] )\n"
        }, 
        {
            "execution_count": 37, 
            "cell_type": "code", 
            "metadata": {}, 
            "outputs": [
                {
                    "execution_count": 37, 
                    "metadata": {}, 
                    "data": {
                        "text/plain": "array([4], dtype=int32)"
                    }, 
                    "output_type": "execute_result"
                }
            ], 
            "source": "loaded_model.predict([clean_df.text[0]])"
        }, 
        {
            "execution_count": 38, 
            "cell_type": "code", 
            "metadata": {}, 
            "outputs": [
                {
                    "output_type": "stream", 
                    "name": "stdout", 
                    "text": "------------------------------------  -------------  ------------------------  -----------------\nGUID                                  NAME           CREATED                   FRAMEWORK\n0a15f965-38c5-4fb4-82b8-f3b87d969019  xj_model       2018-04-09T18:18:23.472Z  spss-modeler-18.1\n28f106e5-6650-41a0-837b-55068a1c9d6c  HN Clustering  2018-04-30T22:41:13.971Z  scikit-learn-0.19\n48a7da24-8bfc-4b93-82a7-b2e7de8d6d6b  HN Clustering  2018-05-10T14:20:37.299Z  scikit-learn-0.19\n------------------------------------  -------------  ------------------------  -----------------\n"
                }
            ], 
            "source": "models_details = client.repository.list_models()\n\n\nloaded_model = client.repository.load(published_model_uid)\n"
        }, 
        {
            "source": "## Using deployed model\n", 
            "cell_type": "markdown", 
            "metadata": {}
        }, 
        {
            "execution_count": 14, 
            "cell_type": "code", 
            "metadata": {}, 
            "outputs": [], 
            "source": "end_pt = 'https://ibm-watson-ml.mybluemix.net/v3/wml_instances/bedc993c-0caa-4c43-bd7e-cc3986e45fea/published_models/28f106e5-6650-41a0-837b-55068a1c9d6c/deployments/718598cf-eff3-446d-ae03-a666b7e70c6f/online'"
        }, 
        {
            "execution_count": 18, 
            "cell_type": "code", 
            "metadata": {}, 
            "outputs": [], 
            "source": "# The code was removed by DSX for sharing."
        }, 
        {
            "execution_count": null, 
            "cell_type": "code", 
            "metadata": {}, 
            "outputs": [], 
            "source": "payload_scoring = {\"fields\": [\"f1\"], \"values\": [[clean_df.text[0]]]}\n\nresponse_scoring = requests.post('https://ibm-watson-ml.mybluemix.net/v3/wml_instances/bedc993c-0caa-4c43-bd7e-cc3986e45fea/published_models/28f106e5-6650-41a0-837b-55068a1c9d6c/deployments/718598cf-eff3-446d-ae03-a666b7e70c6f/online', json=payload_scoring, headers=header)\n"
        }
    ], 
    "metadata": {
        "kernelspec": {
            "display_name": "Python 3.5", 
            "name": "python3", 
            "language": "python"
        }, 
        "language_info": {
            "mimetype": "text/x-python", 
            "nbconvert_exporter": "python", 
            "version": "3.5.4", 
            "name": "python", 
            "file_extension": ".py", 
            "pygments_lexer": "ipython3", 
            "codemirror_mode": {
                "version": 3, 
                "name": "ipython"
            }
        }
    }, 
    "nbformat": 4
}