{
    "nbformat_minor": 1, 
    "cells": [
        {
            "execution_count": 1, 
            "cell_type": "code", 
            "metadata": {}, 
            "outputs": [], 
            "source": "# The code was removed by DSX for sharing."
        }, 
        {
            "execution_count": 2, 
            "cell_type": "code", 
            "metadata": {}, 
            "outputs": [], 
            "source": "import pandas as pd\nimport requests\nfrom bs4 import BeautifulSoup"
        }, 
        {
            "execution_count": 3, 
            "cell_type": "code", 
            "metadata": {}, 
            "outputs": [], 
            "source": "class hn_collector():\n    \n    import requests\n    from bs4 import BeautifulSoup\n    \n    def __init__(self):\n        self.API_BASE = 'https://hacker-news.firebaseio.com/v0/'\n        self.TOP ='topstories.json'\n        self.NEW ='newstories.json'\n        self.ITEM ='item/'\n        self.HEADERS = {'User-Agent': 'Mozilla/5.0 (Macintosh; Intel Mac OS X 10_13_3) AppleWebKit/537.36 (KHTML, like Gecko) Chrome/65.0.3325.181 Safari/537.36'}\n        \n    def get_top_stories(self):\n        return(eval(requests.get(self.API_BASE + self.TOP).content))\n    \n    def get_new_stories(self):\n        return(eval(requests.get(self.API_BASE + self.NEW).content))\n    \n    def get_story(self, story_id):\n        return(eval(requests.get(self.API_BASE + self.ITEM + str(story_id)+\".json\").content))\n    \n    def get_text(self, story_url):\n\n        try:\n            page = requests.get(story_url, headers=self.HEADERS)\n            soup = BeautifulSoup(page.content,'lxml')\n            s= ' '.join([p.text for p in soup.find_all('p')])\n            return(s)\n        except:\n            return(None)\n        "
        }, 
        {
            "source": "## Find all new stories content", 
            "cell_type": "markdown", 
            "metadata": {}
        }, 
        {
            "execution_count": 4, 
            "cell_type": "code", 
            "metadata": {}, 
            "outputs": [], 
            "source": "hn = hn_collector() #instantiate class then use methods to initiate process"
        }, 
        {
            "execution_count": 5, 
            "cell_type": "code", 
            "metadata": {}, 
            "outputs": [], 
            "source": "DATA_FILE = 'hn_stories.csv'\nNEW_STORIES = hn.get_new_stories()\nCURRENT_DATA = pd.read_csv(project.get_file(DATA_FILE)).drop_duplicates('url',keep='first')\n\nNEW_STORIES = [item for item in NEW_STORIES if item not in CURRENT_DATA.id] # slow way to remove duplicates\nstory_list = []"
        }, 
        {
            "execution_count": 8, 
            "cell_type": "code", 
            "metadata": {
                "scrolled": true
            }, 
            "outputs": [
                {
                    "output_type": "stream", 
                    "name": "stdout", 
                    "text": "name 'null' is not defined\nname 'null' is not defined\nname 'null' is not defined\nname 'null' is not defined\n"
                }, 
                {
                    "execution_count": 8, 
                    "metadata": {}, 
                    "data": {
                        "text/plain": "{'asset_id': '5f6761e1-ae79-4174-8326-9f24bde5420e',\n 'bucket_name': 'pyconproject-donotdelete-pr-hvlammk95c1rrk',\n 'file_name': 'hn_stories.csv',\n 'message': 'File hn_stories.csv has been written successfully to the associated OS'}"
                    }, 
                    "output_type": "execute_result"
                }
            ], 
            "source": "for story in NEW_STORIES:\n    try:\n        s = hn.get_story(story)\n        raw_text = hn.get_text(s.get('url',''))\n        s['kids'] = str(s.get('kids',None))\n        s['text'] = raw_text\n        story_list.append(s)\n    except Exception as e:\n        print(e)\n\n    \nupdated_data = CURRENT_DATA.append(pd.DataFrame(story_list))\nproject.save_data('hn_stories.csv', updated_data.to_csv(index=False),overwrite=True)\n"
        }
    ], 
    "metadata": {
        "kernelspec": {
            "display_name": "Python 3.5", 
            "name": "python3", 
            "language": "python"
        }, 
        "language_info": {
            "mimetype": "text/x-python", 
            "nbconvert_exporter": "python", 
            "version": "3.5.4", 
            "name": "python", 
            "file_extension": ".py", 
            "pygments_lexer": "ipython3", 
            "codemirror_mode": {
                "version": 3, 
                "name": "ipython"
            }
        }
    }, 
    "nbformat": 4
}