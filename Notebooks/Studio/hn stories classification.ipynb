{
    "nbformat_minor": 2, 
    "cells": [
        {
            "source": "### Tutorial: https://towardsdatascience.com/multi-class-text-classification-with-scikit-learn-12f1e60e0a9f", 
            "cell_type": "markdown", 
            "metadata": {}
        }, 
        {
            "execution_count": 1, 
            "cell_type": "code", 
            "metadata": {}, 
            "outputs": [], 
            "source": "# The code was removed by DSX for sharing."
        }, 
        {
            "execution_count": 50, 
            "cell_type": "code", 
            "metadata": {}, 
            "outputs": [], 
            "source": "import pickle\nimport pandas as pd\nfrom sklearn.pipeline import Pipeline\nfrom sklearn.pipeline import make_pipeline\n\nfrom sklearn.model_selection import GridSearchCV\n\nimport re\nimport numpy as np\nfrom sklearn.feature_extraction.text import TfidfTransformer,TfidfVectorizer, CountVectorizer\nfrom sklearn.preprocessing import LabelEncoder, Normalizer\nfrom sklearn.model_selection import train_test_split\n\nfrom sklearn import metrics\n\nimport matplotlib.pyplot as plt\n\n%matplotlib inline"
        }, 
        {
            "execution_count": 4, 
            "cell_type": "code", 
            "metadata": {}, 
            "outputs": [], 
            "source": "df = pd.read_csv(project.get_file('labeled_clustered.csv'),encoding='latin-1')"
        }, 
        {
            "execution_count": 5, 
            "cell_type": "code", 
            "metadata": {}, 
            "outputs": [], 
            "source": "df['label'] = df.label.str.lower()"
        }, 
        {
            "execution_count": 6, 
            "cell_type": "code", 
            "metadata": {}, 
            "outputs": [
                {
                    "execution_count": 6, 
                    "metadata": {}, 
                    "data": {
                        "text/plain": "random      1093\nml           330\ngithub       237\nnews         221\ndev          146\nscience      101\ntech          79\nthought       64\nbiz-news      56\nbusiness      50\ncrypto        33\nName: label, dtype: int64"
                    }, 
                    "output_type": "execute_result"
                }
            ], 
            "source": "df['label'].value_counts()"
        }, 
        {
            "execution_count": 16, 
            "cell_type": "code", 
            "metadata": {}, 
            "outputs": [], 
            "source": "from pandas.io.json import json_normalize\nimport json\n\n# with open(project.get_file('clustered_stories.json').read()) as json_data:\n#     d = json.load(json_data)\n    \n# stories_df = json_normalize(d)"
        }, 
        {
            "execution_count": 37, 
            "cell_type": "code", 
            "metadata": {}, 
            "outputs": [], 
            "source": "# The code was removed by DSX for sharing."
        }, 
        {
            "execution_count": 38, 
            "cell_type": "code", 
            "metadata": {
                "scrolled": false
            }, 
            "outputs": [
                {
                    "execution_count": 38, 
                    "metadata": {}, 
                    "data": {
                        "text/html": "<div>\n<style scoped>\n    .dataframe tbody tr th:only-of-type {\n        vertical-align: middle;\n    }\n\n    .dataframe tbody tr th {\n        vertical-align: top;\n    }\n\n    .dataframe thead th {\n        text-align: right;\n    }\n</style>\n<table border=\"1\" class=\"dataframe\">\n  <thead>\n    <tr style=\"text-align: right;\">\n      <th></th>\n      <th>by</th>\n      <th>clust_label</th>\n      <th>clust_label_agg</th>\n      <th>descendants</th>\n      <th>id</th>\n      <th>kids</th>\n      <th>pain_perdu</th>\n      <th>score</th>\n      <th>text</th>\n      <th>text_length</th>\n      <th>time</th>\n      <th>title</th>\n      <th>type</th>\n      <th>url</th>\n    </tr>\n  </thead>\n  <tbody>\n    <tr>\n      <th>0</th>\n      <td>pain_perdu</td>\n      <td>2</td>\n      <td>7</td>\n      <td>77</td>\n      <td>16936533</td>\n      <td>[16937090, 16936857, 16936689, 16936691, 16937...</td>\n      <td>NaN</td>\n      <td>141</td>\n      <td>\u00a9 Copyright 2000 - 2016 Fox Television Station...</td>\n      <td>6154</td>\n      <td>1524781744</td>\n      <td>DNA linked to Golden State Killer arrest came ...</td>\n      <td>story</td>\n      <td>http://www.ktvu.com/news/dna-linked-to-golden-...</td>\n    </tr>\n    <tr>\n      <th>1</th>\n      <td>rezashirazian</td>\n      <td>3</td>\n      <td>0</td>\n      <td>57</td>\n      <td>16935270</td>\n      <td>[16936257, 16935515, 16936338, 16937273, 16935...</td>\n      <td>NaN</td>\n      <td>234</td>\n      <td>\\n\\n\\n\\n            var postLoadFunctions = {}...</td>\n      <td>28245</td>\n      <td>1524773832</td>\n      <td>Square to buy Weebly for $365M</td>\n      <td>story</td>\n      <td>https://www.cnbc.com/2018/04/26/square-to-buy-...</td>\n    </tr>\n    <tr>\n      <th>2</th>\n      <td>arctux</td>\n      <td>0</td>\n      <td>1</td>\n      <td>109</td>\n      <td>16933736</td>\n      <td>[16935012, 16935247, 16935094, 16934190, 16937...</td>\n      <td>NaN</td>\n      <td>402</td>\n      <td>by Matthew Hodgson | Apr 26, 2018 | General, ...</td>\n      <td>4477</td>\n      <td>1524762980</td>\n      <td>Matrix and Riot Confirmed as the Basis for Fra...</td>\n      <td>story</td>\n      <td>https://matrix.org/blog/2018/04/26/matrix-and-...</td>\n    </tr>\n    <tr>\n      <th>3</th>\n      <td>ingve</td>\n      <td>2</td>\n      <td>2</td>\n      <td>102</td>\n      <td>16933265</td>\n      <td>[16933598, 16933544, 16934620, 16933861, 16934...</td>\n      <td>NaN</td>\n      <td>462</td>\n      <td>Uncovering the best of the web, while pointing...</td>\n      <td>9866</td>\n      <td>1524759583</td>\n      <td>Magnasanti: Large and Terrifying SimCity (2010)</td>\n      <td>story</td>\n      <td>https://rumorsontheinternets.org/2010/10/14/ma...</td>\n    </tr>\n    <tr>\n      <th>4</th>\n      <td>velmu</td>\n      <td>5</td>\n      <td>3</td>\n      <td>20</td>\n      <td>16934656</td>\n      <td>[16935702, 16936638, 16937333, 16935952, 16937...</td>\n      <td>NaN</td>\n      <td>92</td>\n      <td>\\n \\n\\tCyber security has evolved into a key i...</td>\n      <td>10789</td>\n      <td>1524769885</td>\n      <td>SEC Penalizes Yahoo $35M for Massive, Undisclo...</td>\n      <td>story</td>\n      <td>https://www.jdsupra.com/legalnews/sec-penalize...</td>\n    </tr>\n  </tbody>\n</table>\n</div>", 
                        "text/plain": "              by  clust_label  clust_label_agg  descendants        id  \\\n0     pain_perdu            2                7           77  16936533   \n1  rezashirazian            3                0           57  16935270   \n2         arctux            0                1          109  16933736   \n3          ingve            2                2          102  16933265   \n4          velmu            5                3           20  16934656   \n\n                                                kids  pain_perdu  score  \\\n0  [16937090, 16936857, 16936689, 16936691, 16937...         NaN    141   \n1  [16936257, 16935515, 16936338, 16937273, 16935...         NaN    234   \n2  [16935012, 16935247, 16935094, 16934190, 16937...         NaN    402   \n3  [16933598, 16933544, 16934620, 16933861, 16934...         NaN    462   \n4  [16935702, 16936638, 16937333, 16935952, 16937...         NaN     92   \n\n                                                text  text_length        time  \\\n0  \u00a9 Copyright 2000 - 2016 Fox Television Station...         6154  1524781744   \n1  \\n\\n\\n\\n            var postLoadFunctions = {}...        28245  1524773832   \n2   by Matthew Hodgson | Apr 26, 2018 | General, ...         4477  1524762980   \n3  Uncovering the best of the web, while pointing...         9866  1524759583   \n4  \\n \\n\\tCyber security has evolved into a key i...        10789  1524769885   \n\n                                               title   type  \\\n0  DNA linked to Golden State Killer arrest came ...  story   \n1                     Square to buy Weebly for $365M  story   \n2  Matrix and Riot Confirmed as the Basis for Fra...  story   \n3    Magnasanti: Large and Terrifying SimCity (2010)  story   \n4  SEC Penalizes Yahoo $35M for Massive, Undisclo...  story   \n\n                                                 url  \n0  http://www.ktvu.com/news/dna-linked-to-golden-...  \n1  https://www.cnbc.com/2018/04/26/square-to-buy-...  \n2  https://matrix.org/blog/2018/04/26/matrix-and-...  \n3  https://rumorsontheinternets.org/2010/10/14/ma...  \n4  https://www.jdsupra.com/legalnews/sec-penalize...  "
                    }, 
                    "output_type": "execute_result"
                }
            ], 
            "source": "stories_df = pd.read_json(body, orient='records')\nstories_df.head()"
        }, 
        {
            "execution_count": 39, 
            "cell_type": "code", 
            "metadata": {}, 
            "outputs": [], 
            "source": "labeled = df.dropna()\nkeep_cols = ['id','label']"
        }, 
        {
            "execution_count": 40, 
            "cell_type": "code", 
            "metadata": {}, 
            "outputs": [], 
            "source": "labeled = labeled[keep_cols]"
        }, 
        {
            "execution_count": 41, 
            "cell_type": "code", 
            "metadata": {}, 
            "outputs": [], 
            "source": "combined = labeled.merge(stories_df,on='id')"
        }, 
        {
            "execution_count": 42, 
            "cell_type": "code", 
            "metadata": {}, 
            "outputs": [
                {
                    "execution_count": 42, 
                    "metadata": {}, 
                    "data": {
                        "text/html": "<div>\n<style scoped>\n    .dataframe tbody tr th:only-of-type {\n        vertical-align: middle;\n    }\n\n    .dataframe tbody tr th {\n        vertical-align: top;\n    }\n\n    .dataframe thead th {\n        text-align: right;\n    }\n</style>\n<table border=\"1\" class=\"dataframe\">\n  <thead>\n    <tr style=\"text-align: right;\">\n      <th></th>\n      <th>id</th>\n      <th>label</th>\n      <th>by</th>\n      <th>clust_label</th>\n      <th>clust_label_agg</th>\n      <th>descendants</th>\n      <th>kids</th>\n      <th>pain_perdu</th>\n      <th>score</th>\n      <th>text</th>\n      <th>text_length</th>\n      <th>time</th>\n      <th>title</th>\n      <th>type</th>\n      <th>url</th>\n    </tr>\n  </thead>\n  <tbody>\n    <tr>\n      <th>0</th>\n      <td>16989464</td>\n      <td>biz-news</td>\n      <td>mgdo</td>\n      <td>3</td>\n      <td>1</td>\n      <td>1</td>\n      <td>[16989924, 16989502]</td>\n      <td>NaN</td>\n      <td>38</td>\n      <td>When you set a password for your Twitter accou...</td>\n      <td>1539</td>\n      <td>1525378300</td>\n      <td>Twitter \u2013 Keeping your account secure</td>\n      <td>story</td>\n      <td>https://blog.twitter.com/official/en_us/topics...</td>\n    </tr>\n    <tr>\n      <th>1</th>\n      <td>17012651</td>\n      <td>biz-news</td>\n      <td>rbanffy</td>\n      <td>7</td>\n      <td>4</td>\n      <td>0</td>\n      <td>None</td>\n      <td>NaN</td>\n      <td>1</td>\n      <td>20 years ago today, Steve Jobs introduced the ...</td>\n      <td>5119</td>\n      <td>1525700941</td>\n      <td>Steve Jobs introduced the original iMac 20 yea...</td>\n      <td>story</td>\n      <td>http://bgr.com/2018/05/06/imac-history-steve-j...</td>\n    </tr>\n  </tbody>\n</table>\n</div>", 
                        "text/plain": "         id     label       by  clust_label  clust_label_agg  descendants  \\\n0  16989464  biz-news     mgdo            3                1            1   \n1  17012651  biz-news  rbanffy            7                4            0   \n\n                   kids  pain_perdu  score  \\\n0  [16989924, 16989502]         NaN     38   \n1                  None         NaN      1   \n\n                                                text  text_length        time  \\\n0  When you set a password for your Twitter accou...         1539  1525378300   \n1  20 years ago today, Steve Jobs introduced the ...         5119  1525700941   \n\n                                               title   type  \\\n0              Twitter \u2013 Keeping your account secure  story   \n1  Steve Jobs introduced the original iMac 20 yea...  story   \n\n                                                 url  \n0  https://blog.twitter.com/official/en_us/topics...  \n1  http://bgr.com/2018/05/06/imac-history-steve-j...  "
                    }, 
                    "output_type": "execute_result"
                }
            ], 
            "source": "combined.head(2)"
        }, 
        {
            "execution_count": 44, 
            "cell_type": "code", 
            "metadata": {}, 
            "outputs": [], 
            "source": "#combined['label_id'] = combined['label'].factorize()[0]\nencoder = LabelEncoder()\nencoder.fit(combined['label'])\nnp.save('topic_classes.npy', encoder.classes_)"
        }, 
        {
            "execution_count": 45, 
            "cell_type": "code", 
            "metadata": {}, 
            "outputs": [
                {
                    "execution_count": 45, 
                    "metadata": {}, 
                    "data": {
                        "text/plain": "array(['biz-news', 'business', 'crypto', 'dev', 'github', 'ml', 'news',\n       'random', 'science', 'tech', 'thought'], dtype=object)"
                    }, 
                    "output_type": "execute_result"
                }
            ], 
            "source": "encoder.classes_"
        }, 
        {
            "execution_count": 51, 
            "cell_type": "code", 
            "metadata": {}, 
            "outputs": [
                {
                    "execution_count": 51, 
                    "metadata": {}, 
                    "data": {
                        "text/plain": "{'asset_id': 'd08fb0e1-97fc-4499-8700-634e2c78ccb1',\n 'bucket_name': 'pyconproject-donotdelete-pr-hvlammk95c1rrk',\n 'file_name': 'topic_classes.pkl',\n 'message': 'File topic_classes.pkl has been written successfully to the associated OS'}"
                    }, 
                    "output_type": "execute_result"
                }
            ], 
            "source": "project.save_data(data=pickle.dumps(encoder.classes_),file_name='topic_classes.pkl',overwrite=True)"
        }, 
        {
            "execution_count": 52, 
            "cell_type": "code", 
            "metadata": {
                "scrolled": true
            }, 
            "outputs": [], 
            "source": "classes = pickle.load(project.get_file('topic_classes.pkl'))"
        }, 
        {
            "execution_count": 53, 
            "cell_type": "code", 
            "metadata": {}, 
            "outputs": [
                {
                    "execution_count": 53, 
                    "metadata": {}, 
                    "data": {
                        "text/plain": "array(['biz-news', 'business', 'crypto', 'dev', 'github', 'ml', 'news',\n       'random', 'science', 'tech', 'thought'], dtype=object)"
                    }, 
                    "output_type": "execute_result"
                }
            ], 
            "source": "classes"
        }, 
        {
            "execution_count": 54, 
            "cell_type": "code", 
            "metadata": {}, 
            "outputs": [], 
            "source": "combined['label_id'] = encoder.transform(combined['label'])"
        }, 
        {
            "execution_count": 55, 
            "cell_type": "code", 
            "metadata": {}, 
            "outputs": [], 
            "source": "X_train, X_test, y_train, y_test = train_test_split(combined.text, combined.label_id, random_state = 0)\ncount_vect = CountVectorizer()\nX_train_counts = count_vect.fit_transform(X_train)\ntfidf_transformer = TfidfTransformer()\nX_train_tfidf = tfidf_transformer.fit_transform(X_train_counts)"
        }, 
        {
            "execution_count": 56, 
            "cell_type": "code", 
            "metadata": {}, 
            "outputs": [], 
            "source": "tfidf = TfidfVectorizer(sublinear_tf=True, min_df=5, norm='l2', encoding='latin-1', ngram_range=(1, 2), stop_words='english')\nfeatures = tfidf.fit_transform(combined.text).toarray()\nlabels = combined.label_id\n"
        }, 
        {
            "execution_count": 57, 
            "cell_type": "code", 
            "metadata": {}, 
            "outputs": [
                {
                    "output_type": "stream", 
                    "name": "stderr", 
                    "text": "/opt/conda/envs/DSX-Python35/lib/python3.5/site-packages/seaborn/categorical.py:462: FutureWarning: remove_na is deprecated and is a private function. Do not use.\n  box_data = remove_na(group_data)\n"
                }, 
                {
                    "output_type": "display_data", 
                    "data": {
                        "image/png": "[encoded data removed]", 
                        "text/plain": "<matplotlib.figure.Figure at 0x2ad68b873470>"
                    }, 
                    "metadata": {}
                }
            ], 
            "source": "from sklearn.linear_model import LogisticRegression\nfrom sklearn.ensemble import RandomForestClassifier\nfrom sklearn.svm import LinearSVC\nfrom sklearn.naive_bayes import MultinomialNB\n\nfrom sklearn.model_selection import cross_val_score\nmodels = [\n    RandomForestClassifier(n_estimators=200, max_depth=3, random_state=0),\n    LinearSVC(),\n    MultinomialNB(),\n    LogisticRegression(random_state=0),\n]\nCV = 5\ncv_df = pd.DataFrame(index=range(CV * len(models)))\nentries = []\nfor model in models:\n    model_name = model.__class__.__name__\n    accuracies = cross_val_score(model, features, labels, scoring='accuracy', cv=CV)\n    for fold_idx, accuracy in enumerate(accuracies):\n        entries.append((model_name, fold_idx, accuracy))\n    cv_df = pd.DataFrame(entries, columns=['model_name', 'fold_idx', 'accuracy'])\n\nimport seaborn as sns\nsns.boxplot(x='model_name', y='accuracy', data=cv_df)\nsns.stripplot(x='model_name', y='accuracy', data=cv_df, \n              size=8, jitter=True, edgecolor=\"gray\", linewidth=2)\nplt.show()"
        }, 
        {
            "execution_count": 58, 
            "cell_type": "code", 
            "metadata": {}, 
            "outputs": [], 
            "source": "from sklearn.pipeline import Pipeline\n\n\ntfidf = TfidfVectorizer(sublinear_tf=True, min_df=5, norm='l2', encoding='latin-1', ngram_range=(1, 2), stop_words='english')\n\nsvm= LinearSVC()\n\nsvm_pipe = Pipeline([('tfidf', tfidf), ('svm', svm)])"
        }, 
        {
            "execution_count": 59, 
            "cell_type": "code", 
            "metadata": {}, 
            "outputs": [], 
            "source": "svm_model = svm_pipe.fit(combined.text, combined.label_id)"
        }, 
        {
            "execution_count": null, 
            "cell_type": "code", 
            "metadata": {}, 
            "outputs": [], 
            "source": "from sklearn.externals import joblib\njoblib.dump(svm_model, 'svm.pkl') \n"
        }, 
        {
            "execution_count": null, 
            "cell_type": "code", 
            "metadata": {}, 
            "outputs": [], 
            "source": ""
        }
    ], 
    "metadata": {
        "kernelspec": {
            "display_name": "Python 3.5", 
            "name": "python3", 
            "language": "python"
        }, 
        "language_info": {
            "mimetype": "text/x-python", 
            "nbconvert_exporter": "python", 
            "version": "3.5.4", 
            "name": "python", 
            "file_extension": ".py", 
            "pygments_lexer": "ipython3", 
            "codemirror_mode": {
                "version": 3, 
                "name": "ipython"
            }
        }
    }, 
    "nbformat": 4
}