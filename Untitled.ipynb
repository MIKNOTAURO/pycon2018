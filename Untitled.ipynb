{
 "cells": [
  {
   "cell_type": "code",
   "execution_count": 1,
   "metadata": {},
   "outputs": [
    {
     "name": "stderr",
     "output_type": "stream",
     "text": [
      "/Users/gregfilla/anaconda3/lib/python3.6/importlib/_bootstrap.py:219: RuntimeWarning: compiletime version 3.5 of module 'tensorflow.python.framework.fast_tensor_util' does not match runtime version 3.6\n",
      "  return f(*args, **kwds)\n"
     ]
    }
   ],
   "source": [
    "from secrets import creds_hmac,wml_credentials\n",
    "from utils import hn_collector, refresh_COS_data, prep_card_data,load_wml_model"
   ]
  },
  {
   "cell_type": "code",
   "execution_count": 14,
   "metadata": {
    "collapsed": true
   },
   "outputs": [],
   "source": [
    "#CURRENT_NEW = 'current_new.json'\n",
    "CURRENT_TOP = 'current_top.json'\n",
    "\n",
    "#refresh_COS_data(CURRENT_NEW,'data/current_new.json',creds_hmac)\n",
    "refresh_COS_data(CURRENT_TOP,'data/current_top.json',creds_hmac)\n",
    "lda_model = load_wml_model(wml_credentials)"
   ]
  },
  {
   "cell_type": "code",
   "execution_count": null,
   "metadata": {
    "collapsed": true
   },
   "outputs": [],
   "source": [
    "story_list = prep_card_data(model=lda_model, source_json = 'data/current_new.json',threshold=0.05, mode= 'cluster')\n"
   ]
  },
  {
   "cell_type": "code",
   "execution_count": 19,
   "metadata": {
    "collapsed": true
   },
   "outputs": [],
   "source": [
    "def score_stories(in_path='data/current_top.json', model):\n",
    "    import json\n",
    "    import pandas as pd\n",
    "\n",
    "    with open(in_path) as json_data:\n",
    "        story_list = json.load(json_data)\n",
    "    df = pd.DataFrame(story_list)\n",
    "    scores = model.transform(df.text)\n",
    "    df['label'] = scores[:,0]\n",
    "    df.to_json('data/scored_top.json',orient='records')\n",
    "    return(df)"
   ]
  },
  {
   "cell_type": "code",
   "execution_count": 35,
   "metadata": {
    "collapsed": true
   },
   "outputs": [],
   "source": []
  },
  {
   "cell_type": "code",
   "execution_count": null,
   "metadata": {
    "collapsed": true
   },
   "outputs": [],
   "source": [
    "if mode == 'topic':\n",
    "    for story in story_list:\n",
    "        filtered_dict = {k:v for k,v in story.items() if \"Topic\" in k and v > threshold} #filter topics for scores in topics\n",
    "        story['ml_topics'] = filtered_dict\n",
    "        story['card_class'] = 'element-item ' + ' '.join(list(filtered_dict.keys()))\n",
    "        try:\n",
    "            story['id'] = str(story['id'])[:-2]\n",
    "            #print(model.transform([story['text']]))\n",
    "        except:\n",
    "            pass\n",
    "elif mode == 'cluster':\n",
    "    for story in story_list:\n",
    "        filtered_dict = {k:v for k,v in story.items() if \"Topic\" in k and v > threshold} #filter topics for scores in topics\n",
    "        story['ml_topics'] = story['clust_label']\n",
    "        story['card_class'] = 'element-item cluster-{}'.format(story['clust_label'])\n",
    "        try:\n",
    "            story['id'] = str(story['id'])#[:-2]\n",
    "            #print(model.transform([story['text']]))\n",
    "        except:\n",
    "            pass\n",
    "return(story_list)"
   ]
  }
 ],
 "metadata": {
  "kernelspec": {
   "display_name": "Python 3",
   "language": "python",
   "name": "python3"
  },
  "language_info": {
   "codemirror_mode": {
    "name": "ipython",
    "version": 3
   },
   "file_extension": ".py",
   "mimetype": "text/x-python",
   "name": "python",
   "nbconvert_exporter": "python",
   "pygments_lexer": "ipython3",
   "version": "3.6.3"
  }
 },
 "nbformat": 4,
 "nbformat_minor": 2
}
