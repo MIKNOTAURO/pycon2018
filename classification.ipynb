{
 "cells": [
  {
   "cell_type": "markdown",
   "metadata": {},
   "source": [
    "https://towardsdatascience.com/multi-class-text-classification-with-scikit-learn-12f1e60e0a9f"
   ]
  },
  {
   "cell_type": "code",
   "execution_count": 69,
   "metadata": {
    "collapsed": true
   },
   "outputs": [],
   "source": [
    "import scipy\n"
   ]
  },
  {
   "cell_type": "code",
   "execution_count": 70,
   "metadata": {},
   "outputs": [
    {
     "data": {
      "text/plain": [
       "'1.0.0'"
      ]
     },
     "execution_count": 70,
     "metadata": {},
     "output_type": "execute_result"
    }
   ],
   "source": [
    "scipy.__version__"
   ]
  },
  {
   "cell_type": "code",
   "execution_count": 48,
   "metadata": {
    "collapsed": true
   },
   "outputs": [],
   "source": [
    "import pandas as pd\n",
    "from sklearn.pipeline import Pipeline\n",
    "from sklearn.pipeline import make_pipeline\n",
    "\n",
    "from sklearn.model_selection import GridSearchCV\n",
    "\n",
    "import re\n",
    "import numpy as np\n",
    "from sklearn.feature_extraction.text import TfidfTransformer,TfidfVectorizer, CountVectorizer\n",
    "from sklearn.preprocessing import LabelEncoder, Normalizer\n",
    "from sklearn.model_selection import train_test_split\n",
    "\n",
    "from sklearn import metrics\n",
    "\n",
    "import matplotlib.pyplot as plt\n",
    "\n",
    "%matplotlib inline"
   ]
  },
  {
   "cell_type": "code",
   "execution_count": 18,
   "metadata": {
    "collapsed": true
   },
   "outputs": [],
   "source": [
    "df  = pd.read_csv('data/labeled_clustered.csv',encoding='latin-1')"
   ]
  },
  {
   "cell_type": "code",
   "execution_count": 19,
   "metadata": {},
   "outputs": [
    {
     "data": {
      "text/html": [
       "<div>\n",
       "<style>\n",
       "    .dataframe thead tr:only-child th {\n",
       "        text-align: right;\n",
       "    }\n",
       "\n",
       "    .dataframe thead th {\n",
       "        text-align: left;\n",
       "    }\n",
       "\n",
       "    .dataframe tbody tr th {\n",
       "        vertical-align: top;\n",
       "    }\n",
       "</style>\n",
       "<table border=\"1\" class=\"dataframe\">\n",
       "  <thead>\n",
       "    <tr style=\"text-align: right;\">\n",
       "      <th></th>\n",
       "      <th>by</th>\n",
       "      <th>clust_label</th>\n",
       "      <th>clust_label_agg</th>\n",
       "      <th>id</th>\n",
       "      <th>text_length</th>\n",
       "      <th>title</th>\n",
       "      <th>label</th>\n",
       "      <th>type</th>\n",
       "      <th>url</th>\n",
       "    </tr>\n",
       "  </thead>\n",
       "  <tbody>\n",
       "    <tr>\n",
       "      <th>0</th>\n",
       "      <td>mgdo</td>\n",
       "      <td>3</td>\n",
       "      <td>1</td>\n",
       "      <td>16989464</td>\n",
       "      <td>1539</td>\n",
       "      <td>Twitter äóñ Keeping your account secure</td>\n",
       "      <td>biz-news</td>\n",
       "      <td>story</td>\n",
       "      <td>https://blog.twitter.com/official/en_us/topics...</td>\n",
       "    </tr>\n",
       "    <tr>\n",
       "      <th>1</th>\n",
       "      <td>rbanffy</td>\n",
       "      <td>7</td>\n",
       "      <td>4</td>\n",
       "      <td>17012651</td>\n",
       "      <td>5119</td>\n",
       "      <td>Steve Jobs introduced the original iMac 20 yea...</td>\n",
       "      <td>biz-news</td>\n",
       "      <td>story</td>\n",
       "      <td>http://bgr.com/2018/05/06/imac-history-steve-j...</td>\n",
       "    </tr>\n",
       "    <tr>\n",
       "      <th>2</th>\n",
       "      <td>handpickednames</td>\n",
       "      <td>7</td>\n",
       "      <td>4</td>\n",
       "      <td>17012115</td>\n",
       "      <td>6031</td>\n",
       "      <td>Jeff Bezos is making more money out of AWS tha...</td>\n",
       "      <td>biz-news</td>\n",
       "      <td>story</td>\n",
       "      <td>http://www.afr.com/opinion/columnists/jeff-bez...</td>\n",
       "    </tr>\n",
       "    <tr>\n",
       "      <th>3</th>\n",
       "      <td>petethomas</td>\n",
       "      <td>7</td>\n",
       "      <td>4</td>\n",
       "      <td>17012585</td>\n",
       "      <td>4020</td>\n",
       "      <td>L.A., are you sure you want Amazon's HQ2?</td>\n",
       "      <td>biz-news</td>\n",
       "      <td>story</td>\n",
       "      <td>http://www.latimes.com/opinion/op-ed/la-oe-gla...</td>\n",
       "    </tr>\n",
       "    <tr>\n",
       "      <th>4</th>\n",
       "      <td>panic</td>\n",
       "      <td>7</td>\n",
       "      <td>4</td>\n",
       "      <td>17008698</td>\n",
       "      <td>7372</td>\n",
       "      <td>Twenty Years Ago, Steve Jobs Introduced the iM...</td>\n",
       "      <td>biz-news</td>\n",
       "      <td>story</td>\n",
       "      <td>https://512pixels.net/2018/05/20-years-imac-g3...</td>\n",
       "    </tr>\n",
       "  </tbody>\n",
       "</table>\n",
       "</div>"
      ],
      "text/plain": [
       "                by  clust_label  clust_label_agg        id  text_length  \\\n",
       "0             mgdo            3                1  16989464         1539   \n",
       "1          rbanffy            7                4  17012651         5119   \n",
       "2  handpickednames            7                4  17012115         6031   \n",
       "3       petethomas            7                4  17012585         4020   \n",
       "4            panic            7                4  17008698         7372   \n",
       "\n",
       "                                               title     label   type  \\\n",
       "0            Twitter äóñ Keeping your account secure  biz-news  story   \n",
       "1  Steve Jobs introduced the original iMac 20 yea...  biz-news  story   \n",
       "2  Jeff Bezos is making more money out of AWS tha...  biz-news  story   \n",
       "3          L.A., are you sure you want Amazon's HQ2?  biz-news  story   \n",
       "4  Twenty Years Ago, Steve Jobs Introduced the iM...  biz-news  story   \n",
       "\n",
       "                                                 url  \n",
       "0  https://blog.twitter.com/official/en_us/topics...  \n",
       "1  http://bgr.com/2018/05/06/imac-history-steve-j...  \n",
       "2  http://www.afr.com/opinion/columnists/jeff-bez...  \n",
       "3  http://www.latimes.com/opinion/op-ed/la-oe-gla...  \n",
       "4  https://512pixels.net/2018/05/20-years-imac-g3...  "
      ]
     },
     "execution_count": 19,
     "metadata": {},
     "output_type": "execute_result"
    }
   ],
   "source": [
    "from pandas.io.json import json_normalize\n",
    "import json\n",
    "\n",
    "with open('data/scored_top.json') as json_data:\n",
    "    d = json.load(json_data)\n",
    "    \n",
    "stories_df = json_normalize(d)\n",
    "df.head()"
   ]
  },
  {
   "cell_type": "code",
   "execution_count": 58,
   "metadata": {
    "collapsed": true
   },
   "outputs": [],
   "source": [
    "df['label'] = df.label.str.lower()"
   ]
  },
  {
   "cell_type": "code",
   "execution_count": 59,
   "metadata": {},
   "outputs": [
    {
     "data": {
      "text/plain": [
       "random      1093\n",
       "ml           330\n",
       "github       237\n",
       "news         221\n",
       "dev          146\n",
       "science      101\n",
       "tech          79\n",
       "thought       64\n",
       "biz-news      56\n",
       "business      50\n",
       "crypto        33\n",
       "Name: label, dtype: int64"
      ]
     },
     "execution_count": 59,
     "metadata": {},
     "output_type": "execute_result"
    }
   ],
   "source": [
    "df['label'].value_counts()"
   ]
  },
  {
   "cell_type": "code",
   "execution_count": 60,
   "metadata": {
    "collapsed": true
   },
   "outputs": [],
   "source": [
    "from pandas.io.json import json_normalize\n",
    "import json\n",
    "\n",
    "with open('data/clustered_stories.json') as json_data:\n",
    "    d = json.load(json_data)\n",
    "    \n",
    "stories_df = json_normalize(d)"
   ]
  },
  {
   "cell_type": "code",
   "execution_count": 61,
   "metadata": {},
   "outputs": [
    {
     "data": {
      "text/html": [
       "<div>\n",
       "<style>\n",
       "    .dataframe thead tr:only-child th {\n",
       "        text-align: right;\n",
       "    }\n",
       "\n",
       "    .dataframe thead th {\n",
       "        text-align: left;\n",
       "    }\n",
       "\n",
       "    .dataframe tbody tr th {\n",
       "        vertical-align: top;\n",
       "    }\n",
       "</style>\n",
       "<table border=\"1\" class=\"dataframe\">\n",
       "  <thead>\n",
       "    <tr style=\"text-align: right;\">\n",
       "      <th></th>\n",
       "      <th>by</th>\n",
       "      <th>clust_label</th>\n",
       "      <th>clust_label_agg</th>\n",
       "      <th>id</th>\n",
       "      <th>text_length</th>\n",
       "      <th>title</th>\n",
       "      <th>label</th>\n",
       "      <th>type</th>\n",
       "      <th>url</th>\n",
       "    </tr>\n",
       "  </thead>\n",
       "  <tbody>\n",
       "    <tr>\n",
       "      <th>0</th>\n",
       "      <td>mgdo</td>\n",
       "      <td>3</td>\n",
       "      <td>1</td>\n",
       "      <td>16989464</td>\n",
       "      <td>1539</td>\n",
       "      <td>Twitter äóñ Keeping your account secure</td>\n",
       "      <td>biz-news</td>\n",
       "      <td>story</td>\n",
       "      <td>https://blog.twitter.com/official/en_us/topics...</td>\n",
       "    </tr>\n",
       "    <tr>\n",
       "      <th>1</th>\n",
       "      <td>rbanffy</td>\n",
       "      <td>7</td>\n",
       "      <td>4</td>\n",
       "      <td>17012651</td>\n",
       "      <td>5119</td>\n",
       "      <td>Steve Jobs introduced the original iMac 20 yea...</td>\n",
       "      <td>biz-news</td>\n",
       "      <td>story</td>\n",
       "      <td>http://bgr.com/2018/05/06/imac-history-steve-j...</td>\n",
       "    </tr>\n",
       "    <tr>\n",
       "      <th>2</th>\n",
       "      <td>handpickednames</td>\n",
       "      <td>7</td>\n",
       "      <td>4</td>\n",
       "      <td>17012115</td>\n",
       "      <td>6031</td>\n",
       "      <td>Jeff Bezos is making more money out of AWS tha...</td>\n",
       "      <td>biz-news</td>\n",
       "      <td>story</td>\n",
       "      <td>http://www.afr.com/opinion/columnists/jeff-bez...</td>\n",
       "    </tr>\n",
       "    <tr>\n",
       "      <th>3</th>\n",
       "      <td>petethomas</td>\n",
       "      <td>7</td>\n",
       "      <td>4</td>\n",
       "      <td>17012585</td>\n",
       "      <td>4020</td>\n",
       "      <td>L.A., are you sure you want Amazon's HQ2?</td>\n",
       "      <td>biz-news</td>\n",
       "      <td>story</td>\n",
       "      <td>http://www.latimes.com/opinion/op-ed/la-oe-gla...</td>\n",
       "    </tr>\n",
       "    <tr>\n",
       "      <th>4</th>\n",
       "      <td>panic</td>\n",
       "      <td>7</td>\n",
       "      <td>4</td>\n",
       "      <td>17008698</td>\n",
       "      <td>7372</td>\n",
       "      <td>Twenty Years Ago, Steve Jobs Introduced the iM...</td>\n",
       "      <td>biz-news</td>\n",
       "      <td>story</td>\n",
       "      <td>https://512pixels.net/2018/05/20-years-imac-g3...</td>\n",
       "    </tr>\n",
       "  </tbody>\n",
       "</table>\n",
       "</div>"
      ],
      "text/plain": [
       "                by  clust_label  clust_label_agg        id  text_length  \\\n",
       "0             mgdo            3                1  16989464         1539   \n",
       "1          rbanffy            7                4  17012651         5119   \n",
       "2  handpickednames            7                4  17012115         6031   \n",
       "3       petethomas            7                4  17012585         4020   \n",
       "4            panic            7                4  17008698         7372   \n",
       "\n",
       "                                               title     label   type  \\\n",
       "0            Twitter äóñ Keeping your account secure  biz-news  story   \n",
       "1  Steve Jobs introduced the original iMac 20 yea...  biz-news  story   \n",
       "2  Jeff Bezos is making more money out of AWS tha...  biz-news  story   \n",
       "3          L.A., are you sure you want Amazon's HQ2?  biz-news  story   \n",
       "4  Twenty Years Ago, Steve Jobs Introduced the iM...  biz-news  story   \n",
       "\n",
       "                                                 url  \n",
       "0  https://blog.twitter.com/official/en_us/topics...  \n",
       "1  http://bgr.com/2018/05/06/imac-history-steve-j...  \n",
       "2  http://www.afr.com/opinion/columnists/jeff-bez...  \n",
       "3  http://www.latimes.com/opinion/op-ed/la-oe-gla...  \n",
       "4  https://512pixels.net/2018/05/20-years-imac-g3...  "
      ]
     },
     "execution_count": 61,
     "metadata": {},
     "output_type": "execute_result"
    }
   ],
   "source": [
    "df.head()"
   ]
  },
  {
   "cell_type": "code",
   "execution_count": 62,
   "metadata": {
    "collapsed": true
   },
   "outputs": [],
   "source": [
    "labeled = df.dropna()\n",
    "keep_cols = ['id','label']"
   ]
  },
  {
   "cell_type": "code",
   "execution_count": 63,
   "metadata": {
    "collapsed": true
   },
   "outputs": [],
   "source": [
    "labeled = labeled[keep_cols]"
   ]
  },
  {
   "cell_type": "code",
   "execution_count": 64,
   "metadata": {
    "collapsed": true
   },
   "outputs": [],
   "source": [
    "combined = labeled.merge(stories_df,on='id')"
   ]
  },
  {
   "cell_type": "code",
   "execution_count": 65,
   "metadata": {},
   "outputs": [
    {
     "data": {
      "text/html": [
       "<div>\n",
       "<style>\n",
       "    .dataframe thead tr:only-child th {\n",
       "        text-align: right;\n",
       "    }\n",
       "\n",
       "    .dataframe thead th {\n",
       "        text-align: left;\n",
       "    }\n",
       "\n",
       "    .dataframe tbody tr th {\n",
       "        vertical-align: top;\n",
       "    }\n",
       "</style>\n",
       "<table border=\"1\" class=\"dataframe\">\n",
       "  <thead>\n",
       "    <tr style=\"text-align: right;\">\n",
       "      <th></th>\n",
       "      <th>id</th>\n",
       "      <th>label</th>\n",
       "      <th>by</th>\n",
       "      <th>clust_label</th>\n",
       "      <th>clust_label_agg</th>\n",
       "      <th>descendants</th>\n",
       "      <th>kids</th>\n",
       "      <th>pain_perdu</th>\n",
       "      <th>score</th>\n",
       "      <th>text</th>\n",
       "      <th>text_length</th>\n",
       "      <th>time</th>\n",
       "      <th>title</th>\n",
       "      <th>type</th>\n",
       "      <th>url</th>\n",
       "    </tr>\n",
       "  </thead>\n",
       "  <tbody>\n",
       "    <tr>\n",
       "      <th>0</th>\n",
       "      <td>16989464</td>\n",
       "      <td>biz-news</td>\n",
       "      <td>mgdo</td>\n",
       "      <td>3</td>\n",
       "      <td>1</td>\n",
       "      <td>1.0</td>\n",
       "      <td>[16989924, 16989502]</td>\n",
       "      <td>None</td>\n",
       "      <td>38</td>\n",
       "      <td>When you set a password for your Twitter accou...</td>\n",
       "      <td>1539</td>\n",
       "      <td>1525378300</td>\n",
       "      <td>Twitter – Keeping your account secure</td>\n",
       "      <td>story</td>\n",
       "      <td>https://blog.twitter.com/official/en_us/topics...</td>\n",
       "    </tr>\n",
       "    <tr>\n",
       "      <th>1</th>\n",
       "      <td>17012651</td>\n",
       "      <td>biz-news</td>\n",
       "      <td>rbanffy</td>\n",
       "      <td>7</td>\n",
       "      <td>4</td>\n",
       "      <td>0.0</td>\n",
       "      <td>None</td>\n",
       "      <td>None</td>\n",
       "      <td>1</td>\n",
       "      <td>20 years ago today, Steve Jobs introduced the ...</td>\n",
       "      <td>5119</td>\n",
       "      <td>1525700941</td>\n",
       "      <td>Steve Jobs introduced the original iMac 20 yea...</td>\n",
       "      <td>story</td>\n",
       "      <td>http://bgr.com/2018/05/06/imac-history-steve-j...</td>\n",
       "    </tr>\n",
       "  </tbody>\n",
       "</table>\n",
       "</div>"
      ],
      "text/plain": [
       "         id     label       by  clust_label  clust_label_agg  descendants  \\\n",
       "0  16989464  biz-news     mgdo            3                1          1.0   \n",
       "1  17012651  biz-news  rbanffy            7                4          0.0   \n",
       "\n",
       "                   kids pain_perdu  score  \\\n",
       "0  [16989924, 16989502]       None     38   \n",
       "1                  None       None      1   \n",
       "\n",
       "                                                text  text_length        time  \\\n",
       "0  When you set a password for your Twitter accou...         1539  1525378300   \n",
       "1  20 years ago today, Steve Jobs introduced the ...         5119  1525700941   \n",
       "\n",
       "                                               title   type  \\\n",
       "0              Twitter – Keeping your account secure  story   \n",
       "1  Steve Jobs introduced the original iMac 20 yea...  story   \n",
       "\n",
       "                                                 url  \n",
       "0  https://blog.twitter.com/official/en_us/topics...  \n",
       "1  http://bgr.com/2018/05/06/imac-history-steve-j...  "
      ]
     },
     "execution_count": 65,
     "metadata": {},
     "output_type": "execute_result"
    }
   ],
   "source": [
    "combined.head(2)"
   ]
  },
  {
   "cell_type": "code",
   "execution_count": 30,
   "metadata": {
    "collapsed": true
   },
   "outputs": [],
   "source": [
    "#combined['label_id'] = combined['label'].factorize()[0]\n",
    "encoder = LabelEncoder()\n",
    "encoder.fit(combined['label'])\n",
    "np.save('models/topic_classes.npy', encoder.classes_)"
   ]
  },
  {
   "cell_type": "code",
   "execution_count": 54,
   "metadata": {},
   "outputs": [
    {
     "data": {
      "text/plain": [
       "array(['Tech', 'Thought', 'biz-news', 'business', 'crypto', 'dev',\n",
       "       'github', 'ml', 'news', 'random', 'science', 'tech'], dtype=object)"
      ]
     },
     "execution_count": 54,
     "metadata": {},
     "output_type": "execute_result"
    }
   ],
   "source": [
    "encoder.classes_"
   ]
  },
  {
   "cell_type": "code",
   "execution_count": null,
   "metadata": {
    "collapsed": true
   },
   "outputs": [],
   "source": []
  },
  {
   "cell_type": "code",
   "execution_count": 42,
   "metadata": {
    "collapsed": true
   },
   "outputs": [],
   "source": [
    "# encoder = LabelEncoder()\n",
    "# encoder.classes_ = np.load('models/topic_classes.npy')\n",
    "# encoder.inverse_transform(combined['label_id'])"
   ]
  },
  {
   "cell_type": "code",
   "execution_count": 43,
   "metadata": {
    "collapsed": true
   },
   "outputs": [],
   "source": [
    "combined['label_id'] = encoder.transform(combined['label'])"
   ]
  },
  {
   "cell_type": "code",
   "execution_count": 44,
   "metadata": {
    "collapsed": true
   },
   "outputs": [],
   "source": [
    "X_train, X_test, y_train, y_test = train_test_split(combined.text, combined.label_id, random_state = 0)\n",
    "count_vect = CountVectorizer()\n",
    "X_train_counts = count_vect.fit_transform(X_train)\n",
    "tfidf_transformer = TfidfTransformer()\n",
    "X_train_tfidf = tfidf_transformer.fit_transform(X_train_counts)"
   ]
  },
  {
   "cell_type": "code",
   "execution_count": 49,
   "metadata": {
    "collapsed": true
   },
   "outputs": [],
   "source": [
    "tfidf = TfidfVectorizer(sublinear_tf=True, min_df=5, norm='l2', encoding='latin-1', ngram_range=(1, 2), stop_words='english')\n",
    "features = tfidf.fit_transform(combined.text).toarray()\n",
    "labels = combined.label_id\n"
   ]
  },
  {
   "cell_type": "code",
   "execution_count": 50,
   "metadata": {},
   "outputs": [
    {
     "data": {
      "image/png": "[encoded data removed]",
      "text/plain": [
       "<matplotlib.figure.Figure at 0x109c28da0>"
      ]
     },
     "metadata": {},
     "output_type": "display_data"
    }
   ],
   "source": [
    "from sklearn.linear_model import LogisticRegression\n",
    "from sklearn.ensemble import RandomForestClassifier\n",
    "from sklearn.svm import LinearSVC\n",
    "from sklearn.naive_bayes import MultinomialNB\n",
    "\n",
    "from sklearn.model_selection import cross_val_score\n",
    "models = [\n",
    "    RandomForestClassifier(n_estimators=200, max_depth=3, random_state=0),\n",
    "    LinearSVC(),\n",
    "    MultinomialNB(),\n",
    "    LogisticRegression(random_state=0),\n",
    "]\n",
    "CV = 5\n",
    "cv_df = pd.DataFrame(index=range(CV * len(models)))\n",
    "entries = []\n",
    "for model in models:\n",
    "    model_name = model.__class__.__name__\n",
    "    accuracies = cross_val_score(model, features, labels, scoring='accuracy', cv=CV)\n",
    "    for fold_idx, accuracy in enumerate(accuracies):\n",
    "        entries.append((model_name, fold_idx, accuracy))\n",
    "    cv_df = pd.DataFrame(entries, columns=['model_name', 'fold_idx', 'accuracy'])\n",
    "\n",
    "import seaborn as sns\n",
    "sns.boxplot(x='model_name', y='accuracy', data=cv_df)\n",
    "sns.stripplot(x='model_name', y='accuracy', data=cv_df, \n",
    "              size=8, jitter=True, edgecolor=\"gray\", linewidth=2)\n",
    "plt.show()"
   ]
  },
  {
   "cell_type": "code",
   "execution_count": 51,
   "metadata": {
    "collapsed": true
   },
   "outputs": [],
   "source": [
    "from sklearn.pipeline import Pipeline\n",
    "\n",
    "\n",
    "tfidf = TfidfVectorizer(sublinear_tf=True, min_df=5, norm='l2', encoding='latin-1', ngram_range=(1, 2), stop_words='english')\n",
    "\n",
    "svm= LinearSVC()\n",
    "\n",
    "svm_pipe = Pipeline([('tfidf', tfidf), ('svm', svm)])"
   ]
  },
  {
   "cell_type": "code",
   "execution_count": 52,
   "metadata": {
    "collapsed": true
   },
   "outputs": [],
   "source": [
    "svm_model = svm_pipe.fit(combined.text, combined.label_id)"
   ]
  },
  {
   "cell_type": "code",
   "execution_count": 53,
   "metadata": {},
   "outputs": [
    {
     "data": {
      "text/plain": [
       "['models/svm.pkl']"
      ]
     },
     "execution_count": 53,
     "metadata": {},
     "output_type": "execute_result"
    }
   ],
   "source": [
    "from sklearn.externals import joblib\n",
    "joblib.dump(svm_model, 'models/svm.pkl') \n"
   ]
  }
 ],
 "metadata": {
  "kernelspec": {
   "display_name": "Python 3",
   "language": "python",
   "name": "python3"
  },
  "language_info": {
   "codemirror_mode": {
    "name": "ipython",
    "version": 3
   },
   "file_extension": ".py",
   "mimetype": "text/x-python",
   "name": "python",
   "nbconvert_exporter": "python",
   "pygments_lexer": "ipython3",
   "version": "3.6.3"
  }
 },
 "nbformat": 4,
 "nbformat_minor": 2
}
